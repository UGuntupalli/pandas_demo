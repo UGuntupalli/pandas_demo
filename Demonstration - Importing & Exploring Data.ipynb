{
 "cells": [
  {
   "cell_type": "code",
   "execution_count": 1,
   "metadata": {},
   "outputs": [],
   "source": [
    "# Custom code to set path\n",
    "import os\n",
    "import sys\n",
    "import time\n",
    "from functools import reduce\n",
    "from pathlib import Path\n",
    "import pandas as pd\n",
    "\n",
    "def add_module_path_to_system():\n",
    "    module_path = os.path.abspath(os.path.join('..'))\n",
    "    if module_path not in sys.path:\n",
    "        sys.path.append(module_path)\n",
    "    \n",
    "    return module_path \n",
    "module_path = add_module_path_to_system()"
   ]
  },
  {
   "cell_type": "code",
   "execution_count": 2,
   "metadata": {},
   "outputs": [],
   "source": [
    "# Defining list of US States abbreviated - pretty sure there are packages that can provide these \n",
    "\n",
    "usa_state_codes = [\"AL\", \"AK\", \"AZ\", \"AR\", \"CA\", \"CO\", \"CT\", \"DC\", \"DE\", \"FL\", \"GA\", \n",
    "          \"HI\", \"ID\", \"IL\", \"IN\", \"IA\", \"KS\", \"KY\", \"LA\", \"ME\", \"MD\", \n",
    "          \"MA\", \"MI\", \"MN\", \"MS\", \"MO\", \"MT\", \"NE\", \"NV\", \"NH\", \"NJ\", \n",
    "          \"NM\", \"NY\", \"NC\", \"ND\", \"OH\", \"OK\", \"OR\", \"PA\", \"RI\", \"SC\", \n",
    "          \"SD\", \"TN\", \"TX\", \"UT\", \"VT\", \"VA\", \"WA\", \"WV\", \"WI\", \"WY\"]"
   ]
  },
  {
   "cell_type": "markdown",
   "metadata": {},
   "source": [
    "### Reading CSV files from URL\n",
    "\n",
    "#### Here is the first most used most impressive group of functions that pandas offers: \n",
    "read_ -> group of functions that start with read_ for e.g.: read_csv, read_excel, read_html, read_json, read_sql etc                    offer the ability to consume data from a lot of the popular data stores including but not limited to SAS, SQL, STATA,          Excel, HTML, JSON to name a few \n",
    "\n",
    "##### Note: When getting the link from Github, make sure to get it after selecting the \"Raw\" format"
   ]
  },
  {
   "cell_type": "code",
   "execution_count": 3,
   "metadata": {},
   "outputs": [
    {
     "output_type": "stream",
     "name": "stdout",
     "text": "Plant Code State                 Sector Name  \\\nPlant Name                                                                      \n100 Brook Hill Drive Solar            63292    NY        Commercial non-cogen   \n1025 Traveller Solar, LLC             62660    NC  Electric utility non-cogen   \n1047 Little Mountain Solar, LLC       62661    NC  Electric utility non-cogen   \n\n                                Prime Movers Fuel Types  \nPlant Name                                               \n100 Brook Hill Drive Solar                PV        SUN  \n1025 Traveller Solar, LLC                 PV        SUN  \n1047 Little Mountain Solar, LLC           PV        SUN  \n"
    }
   ],
   "source": [
    "url = \"https://raw.githubusercontent.com/UGuntupalli/pandas_demo/master/List_of_plants_for_solar_United_States_all_sectors.csv?token=ALNPDNLE6XXIGPY7NN2XFEK6Q6HNG\" \n",
    "solar_plants_in_usa = pd.read_csv(url, index_col=0) \n",
    "print(solar_plants_in_usa.head(3)) # head() and tail() are helpful methods that let us preview large data frames with relative ease"
   ]
  },
  {
   "cell_type": "markdown",
   "metadata": {},
   "source": [
    "### Exploring the data once it is in Pandas \n",
    "\n",
    "#### Pandas offers multiple handy functions that makes it easy to explore and understand the data. Let us take a look at some of them: \n",
    "     1. info - Provides both a summary and detailed column level break down of a data frame. You can toggle \n",
    "               the level of detail using the verbose argument \n",
    "     2. colums - Provides the names/ labels of the columns\n",
    "     3. dtypes - Provides the data types of the columns\n",
    "     4. shape - Returns a tuple representing the dimensionality of the DataFrame\n",
    "\n",
    "##### Note: \n",
    "In verbose format, info method provides all the information that we are trying to extract using the remaining functions. The remaining functions have been added solely for informative and demonstrative purposes only"
   ]
  },
  {
   "cell_type": "code",
   "execution_count": 4,
   "metadata": {
    "scrolled": true
   },
   "outputs": [
    {
     "output_type": "stream",
     "name": "stdout",
     "text": "**************************************\ninfo method - high level\n**************************************\n<class 'pandas.core.frame.DataFrame'>\nIndex: 3288 entries, 100 Brook Hill Drive Solar to Zumbro Community Solar Garden\nColumns: 5 entries, Plant Code to Fuel Types\ndtypes: int64(1), object(4)\nmemory usage: 154.1+ KB\nNone\n**************************************\ninfo method - detailed\n**************************************\n<class 'pandas.core.frame.DataFrame'>\nIndex: 3288 entries, 100 Brook Hill Drive Solar to Zumbro Community Solar Garden\nData columns (total 5 columns):\n #   Column        Non-Null Count  Dtype \n---  ------        --------------  ----- \n 0   Plant Code    3288 non-null   int64 \n 1   State         3288 non-null   object\n 2   Sector Name   3288 non-null   object\n 3   Prime Movers  3288 non-null   object\n 4   Fuel Types    3288 non-null   object\ndtypes: int64(1), object(4)\nmemory usage: 154.1+ KB\nNone\n**************************************\ncolumns method\n**************************************\nIndex(['Plant Code', 'State', 'Sector Name', 'Prime Movers', 'Fuel Types'], dtype='object')\n**************************************\ndtypes method\n**************************************\nPlant Code       int64\nState           object\nSector Name     object\nPrime Movers    object\nFuel Types      object\ndtype: object\n**************************************\nshape method\n**************************************\n(3288, 5)\n"
    }
   ],
   "source": [
    "# Info method  \n",
    "print('**************************************')\n",
    "print('info method - high level')\n",
    "print('**************************************')\n",
    "print(solar_plants_in_usa.info(verbose=False)) # Get a summary of columns count and its data types but no deeper information \n",
    "print('**************************************')\n",
    "print('info method - detailed')\n",
    "print('**************************************')\n",
    "print(solar_plants_in_usa.info(verbose=True)) \n",
    "\n",
    "# columns method\n",
    "print('**************************************')\n",
    "print('columns method')\n",
    "print('**************************************')\n",
    "print(solar_plants_in_usa.columns) \n",
    "# print(list(solar_plants_in_usa.columns)) - Alternatively print as a list, easier to visualize when there are a lot of columns\n",
    "\n",
    "# dtypes method\n",
    "print('**************************************')\n",
    "print('dtypes method')\n",
    "print('**************************************')\n",
    "print(solar_plants_in_usa.dtypes) \n",
    "\n",
    "# shape method \n",
    "print('**************************************')\n",
    "print('shape method')\n",
    "print('**************************************')\n",
    "print(solar_plants_in_usa.shape) "
   ]
  },
  {
   "cell_type": "markdown",
   "metadata": {},
   "source": [
    "#### Inspecting and Exploring Numeric vs Character Data\n",
    "\n",
    "#####  \n",
    "Summarizing or getting a sense for numeric columns can be easily performed by plotting or looking at general statistics, while for character data understanding the unique values in the column and other exploration techniques are better suited. Please note that Plant Code is being analyzed for demonstrative purposes only and it does not convey any useful information"
   ]
  },
  {
   "cell_type": "code",
   "execution_count": 5,
   "metadata": {},
   "outputs": [
    {
     "output_type": "stream",
     "name": "stdout",
     "text": "**************************************\nunique method\n**************************************\n['NY' 'NC' 'NJ' 'MA' 'CA' 'VT' 'PA' 'FL' 'HI' 'CO' 'CT' 'OH' 'AL' 'MD'\n 'AZ' 'SC' 'MN' 'WA' 'OR' 'TX' 'NM' 'ID' 'NV' 'WI' 'GA' 'KS' 'VA' 'IN'\n 'UT' 'MT' 'IA' 'RI' 'DE' 'MO' 'TN' 'NE' 'KY' 'OK' 'MI' 'IL' 'AR' 'MS'\n 'ME' 'DC' 'LA' 'SD' 'WY']\n# of states with PV plants: 47 \n States with no PV Installations based on this data: {'AK', 'WV', 'ND', 'NH'} \n**************************************\nmin method\n**************************************\n141\n**************************************\nmax method\n**************************************\n63525\n"
    }
   ],
   "source": [
    "# Let us use the State column for character data exploration and Plant Code for numeric data \n",
    "\n",
    "# unique method\n",
    "print('**************************************')\n",
    "print('unique method')\n",
    "print('**************************************')\n",
    "states_with_solar_plants = solar_plants_in_usa['State'].unique()\n",
    "print(states_with_solar_plants)\n",
    "n_states = len(states_with_solar_plants)\n",
    "print(f'''# of states with PV plants: {n_states} ''')\n",
    "\n",
    "states_with_no_installations = set(usa_state_codes) - set(states_with_solar_plants)\n",
    "print(f''' States with no PV Installations based on this data: {states_with_no_installations} ''')\n",
    "\n",
    "# min method \n",
    "print('**************************************')\n",
    "print('min method')\n",
    "print('**************************************')\n",
    "print(solar_plants_in_usa['Plant Code'].min())\n",
    "\n",
    "# max method \n",
    "print('**************************************')\n",
    "print('max method')\n",
    "print('**************************************')\n",
    "print(solar_plants_in_usa['Plant Code'].max())"
   ]
  },
  {
   "cell_type": "markdown",
   "metadata": {},
   "source": [
    "### Filtering Data & Aggregating \n",
    "\n",
    "####  \n",
    "Filtering data helps address/analyze a lot of questions using the data at hand, while aggregating helps draw meaningful insights by segregating data into groups based on some unique property. \n",
    "\n",
    "#####   \n",
    "Let us explore how many types of PV plants exist and which state has the most - No prizes for guessing - my background says California will be highest, but guessing second highest or third highest state might be harder :) "
   ]
  },
  {
   "cell_type": "code",
   "execution_count": 6,
   "metadata": {
    "scrolled": true
   },
   "outputs": [
    {
     "output_type": "execute_result",
     "data": {
      "text/plain": "NC    594\nCA    583\nMA    312\nMN    262\nNJ    240\nNY    170\nCO     84\nMD     80\nAZ     79\nFL     71\nIN     68\nNM     66\nTX     63\nGA     62\nSC     59\nOR     56\nVT     40\nNV     38\nCT     36\nUT     31\nOH     30\nPA     29\nVA     26\nWI     22\nHI     22\nRI     20\nTN     17\nMO     17\nMI     16\nDE     10\nIL     10\nID      9\nIA      7\nAR      7\nOK      7\nMS      7\nKY      6\nAL      6\nNE      6\nMT      6\nKS      5\nME      2\nDC      2\nWA      2\nWY      1\nSD      1\nLA      1\nName: State, dtype: int64"
     },
     "metadata": {},
     "execution_count": 6
    }
   ],
   "source": [
    "# What is the state with the highest # of plants \n",
    "solar_plants_in_usa['State'].value_counts() # Woah - that was a surprise, I am assuming this is because of smaller plants, lets check "
   ]
  },
  {
   "cell_type": "code",
   "execution_count": 7,
   "metadata": {},
   "outputs": [
    {
     "output_type": "execute_result",
     "data": {
      "text/plain": "<pandas.core.groupby.generic.DataFrameGroupBy object at 0x0000025CA6D639C8>"
     },
     "metadata": {},
     "execution_count": 7
    }
   ],
   "source": [
    "# Create a group-by object where we are grouping the data based on the type of generation \n",
    "group_by_type_of_generation = solar_plants_in_usa.groupby('Sector Name')\n",
    "group_by_type_of_generation # As you can see - this only creates a grouped object. User needs to define further what kind of \n",
    "# data slicing is desired "
   ]
  },
  {
   "cell_type": "code",
   "execution_count": 10,
   "metadata": {},
   "outputs": [
    {
     "output_type": "execute_result",
     "data": {
      "text/plain": "    State                 Sector Name  count\n0      AL            Electric utility      2\n1      AL  Electric utility non-cogen      4\n2      AR        Commercial non-cogen      2\n3      AR            Electric utility      1\n4      AR  Electric utility non-cogen      4\n..    ...                         ...    ...\n116    WA            Electric utility      1\n117    WA  Electric utility non-cogen      1\n118    WI        Commercial non-cogen      2\n119    WI  Electric utility non-cogen     20\n120    WY  Electric utility non-cogen      1\n\n[121 rows x 3 columns]",
      "text/html": "<div>\n<style scoped>\n    .dataframe tbody tr th:only-of-type {\n        vertical-align: middle;\n    }\n\n    .dataframe tbody tr th {\n        vertical-align: top;\n    }\n\n    .dataframe thead th {\n        text-align: right;\n    }\n</style>\n<table border=\"1\" class=\"dataframe\">\n  <thead>\n    <tr style=\"text-align: right;\">\n      <th></th>\n      <th>State</th>\n      <th>Sector Name</th>\n      <th>count</th>\n    </tr>\n  </thead>\n  <tbody>\n    <tr>\n      <th>0</th>\n      <td>AL</td>\n      <td>Electric utility</td>\n      <td>2</td>\n    </tr>\n    <tr>\n      <th>1</th>\n      <td>AL</td>\n      <td>Electric utility non-cogen</td>\n      <td>4</td>\n    </tr>\n    <tr>\n      <th>2</th>\n      <td>AR</td>\n      <td>Commercial non-cogen</td>\n      <td>2</td>\n    </tr>\n    <tr>\n      <th>3</th>\n      <td>AR</td>\n      <td>Electric utility</td>\n      <td>1</td>\n    </tr>\n    <tr>\n      <th>4</th>\n      <td>AR</td>\n      <td>Electric utility non-cogen</td>\n      <td>4</td>\n    </tr>\n    <tr>\n      <th>...</th>\n      <td>...</td>\n      <td>...</td>\n      <td>...</td>\n    </tr>\n    <tr>\n      <th>116</th>\n      <td>WA</td>\n      <td>Electric utility</td>\n      <td>1</td>\n    </tr>\n    <tr>\n      <th>117</th>\n      <td>WA</td>\n      <td>Electric utility non-cogen</td>\n      <td>1</td>\n    </tr>\n    <tr>\n      <th>118</th>\n      <td>WI</td>\n      <td>Commercial non-cogen</td>\n      <td>2</td>\n    </tr>\n    <tr>\n      <th>119</th>\n      <td>WI</td>\n      <td>Electric utility non-cogen</td>\n      <td>20</td>\n    </tr>\n    <tr>\n      <th>120</th>\n      <td>WY</td>\n      <td>Electric utility non-cogen</td>\n      <td>1</td>\n    </tr>\n  </tbody>\n</table>\n<p>121 rows × 3 columns</p>\n</div>"
     },
     "metadata": {},
     "execution_count": 10
    }
   ],
   "source": [
    "group_by_state_and_sector = solar_plants_in_usa.groupby(['State','Sector Name']).size().reset_index().rename(columns={0:'count'})\n",
    "group_by_state_and_sector"
   ]
  },
  {
   "cell_type": "code",
   "execution_count": 11,
   "metadata": {},
   "outputs": [
    {
     "output_type": "execute_result",
     "data": {
      "text/plain": "   State                 Sector Name  count\n8     CA            Commercial cogen      2\n9     CA        Commercial non-cogen     38\n10    CA            Electric utility     46\n11    CA      Electric utility cogen      3\n12    CA  Electric utility non-cogen    487\n13    CA            Industrial cogen      1\n14    CA        Industrial non-cogen      6\n68    NC        Commercial non-cogen      4\n69    NC            Electric utility     12\n70    NC  Electric utility non-cogen    578",
      "text/html": "<div>\n<style scoped>\n    .dataframe tbody tr th:only-of-type {\n        vertical-align: middle;\n    }\n\n    .dataframe tbody tr th {\n        vertical-align: top;\n    }\n\n    .dataframe thead th {\n        text-align: right;\n    }\n</style>\n<table border=\"1\" class=\"dataframe\">\n  <thead>\n    <tr style=\"text-align: right;\">\n      <th></th>\n      <th>State</th>\n      <th>Sector Name</th>\n      <th>count</th>\n    </tr>\n  </thead>\n  <tbody>\n    <tr>\n      <th>8</th>\n      <td>CA</td>\n      <td>Commercial cogen</td>\n      <td>2</td>\n    </tr>\n    <tr>\n      <th>9</th>\n      <td>CA</td>\n      <td>Commercial non-cogen</td>\n      <td>38</td>\n    </tr>\n    <tr>\n      <th>10</th>\n      <td>CA</td>\n      <td>Electric utility</td>\n      <td>46</td>\n    </tr>\n    <tr>\n      <th>11</th>\n      <td>CA</td>\n      <td>Electric utility cogen</td>\n      <td>3</td>\n    </tr>\n    <tr>\n      <th>12</th>\n      <td>CA</td>\n      <td>Electric utility non-cogen</td>\n      <td>487</td>\n    </tr>\n    <tr>\n      <th>13</th>\n      <td>CA</td>\n      <td>Industrial cogen</td>\n      <td>1</td>\n    </tr>\n    <tr>\n      <th>14</th>\n      <td>CA</td>\n      <td>Industrial non-cogen</td>\n      <td>6</td>\n    </tr>\n    <tr>\n      <th>68</th>\n      <td>NC</td>\n      <td>Commercial non-cogen</td>\n      <td>4</td>\n    </tr>\n    <tr>\n      <th>69</th>\n      <td>NC</td>\n      <td>Electric utility</td>\n      <td>12</td>\n    </tr>\n    <tr>\n      <th>70</th>\n      <td>NC</td>\n      <td>Electric utility non-cogen</td>\n      <td>578</td>\n    </tr>\n  </tbody>\n</table>\n</div>"
     },
     "metadata": {},
     "execution_count": 11
    }
   ],
   "source": [
    "retain_top_2 = group_by_state_and_sector[(group_by_state_and_sector['State'].isin(['CA','NC']))]\n",
    "retain_top_2"
   ]
  }
 ],
 "metadata": {
  "kernelspec": {
   "display_name": "Python 3",
   "language": "python",
   "name": "python3"
  },
  "language_info": {
   "codemirror_mode": {
    "name": "ipython",
    "version": 3
   },
   "file_extension": ".py",
   "mimetype": "text/x-python",
   "name": "python",
   "nbconvert_exporter": "python",
   "pygments_lexer": "ipython3",
   "version": "3.7.7-final"
  }
 },
 "nbformat": 4,
 "nbformat_minor": 4
}